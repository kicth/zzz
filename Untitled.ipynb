{
 "cells": [
  {
   "cell_type": "code",
   "execution_count": 1,
   "metadata": {},
   "outputs": [
    {
     "name": "stdout",
     "output_type": "stream",
     "text": [
      "np.dot(C,D)= 10\n",
      "np.matmul(C,D) 10\n"
     ]
    }
   ],
   "source": [
    "import numpy as np\n",
    "C=np.array([[1,2,4],\n",
    "            [2.5.3])\n",
    "D=np.array([[4,3,5,6],\n",
    "          [5,6,2,1],\n",
    "          [1,2,5,3])\n",
    "print('np.dot(C,D)=',np.dot(C,D))\n",
    "print('np.matmul(C,D)',np.matmul(C,D))"
   ]
  },
  {
   "cell_type": "code",
   "execution_count": 1,
   "metadata": {},
   "outputs": [
    {
     "name": "stdout",
     "output_type": "stream",
     "text": [
      "A+B= [5 5 3]\n",
      "A+B= [-3 -1  3]\n"
     ]
    }
   ],
   "source": [
    "import numpy as np\n",
    "A=np.array([1,2,3])\n",
    "B=np.array([4,3,0])\n",
    "print('A+B=',np.add(A,B))\n",
    "print('A+B=',np.subtract(A,B))"
   ]
  },
  {
   "cell_type": "code",
   "execution_count": null,
   "metadata": {},
   "outputs": [],
   "source": []
  }
 ],
 "metadata": {
  "kernelspec": {
   "display_name": "Python 3",
   "language": "python",
   "name": "python3"
  },
  "language_info": {
   "codemirror_mode": {
    "name": "ipython",
    "version": 3
   },
   "file_extension": ".py",
   "mimetype": "text/x-python",
   "name": "python",
   "nbconvert_exporter": "python",
   "pygments_lexer": "ipython3",
   "version": "3.7.0"
  }
 },
 "nbformat": 4,
 "nbformat_minor": 2
}
